{
 "cells": [
  {
   "cell_type": "code",
   "execution_count": 1,
   "metadata": {},
   "outputs": [],
   "source": [
    "import pandas as pd  \n",
    "import matplotlib.pyplot as plt\n",
    "import datetime, random\n",
    "import numpy as np; np.random.seed(0)\n",
    "import matplotlib.pyplot as plt\n",
    "from sklearn import preprocessing\n",
    "import warnings\n",
    "warnings.filterwarnings('ignore')\n",
    "from sklearn.model_selection import train_test_split\n",
    "from keras.models import Model, load_model\n",
    "from keras.layers import Input, Dense, Lambda\n",
    "from keras.callbacks import ModelCheckpoint, TensorBoard\n",
    "from keras import regularizers\n",
    "from keras.utils import to_categorical\n",
    "from keras.callbacks import EarlyStopping\n",
    "from keras.layers.merge import concatenate as concat\n",
    "from keras import backend as K\n",
    "from keras.optimizers import Adam\n",
    "%matplotlib inline\n"
   ]
  },
  {
   "cell_type": "code",
   "execution_count": 2,
   "metadata": {},
   "outputs": [
    {
     "output_type": "execute_result",
     "data": {
      "text/plain": "        date   open   high    low  close    volume Name\n0 2013-02-08  15.07  15.12  14.63  14.75   8407500  AAL\n1 2013-02-11  14.89  15.01  14.26  14.46   8882000  AAL\n2 2013-02-12  14.45  14.51  14.10  14.27   8126000  AAL\n3 2013-02-13  14.30  14.94  14.25  14.66  10259500  AAL\n4 2013-02-14  14.94  14.96  13.16  13.99  31879900  AAL",
      "text/html": "<div>\n<style scoped>\n    .dataframe tbody tr th:only-of-type {\n        vertical-align: middle;\n    }\n\n    .dataframe tbody tr th {\n        vertical-align: top;\n    }\n\n    .dataframe thead th {\n        text-align: right;\n    }\n</style>\n<table border=\"1\" class=\"dataframe\">\n  <thead>\n    <tr style=\"text-align: right;\">\n      <th></th>\n      <th>date</th>\n      <th>open</th>\n      <th>high</th>\n      <th>low</th>\n      <th>close</th>\n      <th>volume</th>\n      <th>Name</th>\n    </tr>\n  </thead>\n  <tbody>\n    <tr>\n      <th>0</th>\n      <td>2013-02-08</td>\n      <td>15.07</td>\n      <td>15.12</td>\n      <td>14.63</td>\n      <td>14.75</td>\n      <td>8407500</td>\n      <td>AAL</td>\n    </tr>\n    <tr>\n      <th>1</th>\n      <td>2013-02-11</td>\n      <td>14.89</td>\n      <td>15.01</td>\n      <td>14.26</td>\n      <td>14.46</td>\n      <td>8882000</td>\n      <td>AAL</td>\n    </tr>\n    <tr>\n      <th>2</th>\n      <td>2013-02-12</td>\n      <td>14.45</td>\n      <td>14.51</td>\n      <td>14.10</td>\n      <td>14.27</td>\n      <td>8126000</td>\n      <td>AAL</td>\n    </tr>\n    <tr>\n      <th>3</th>\n      <td>2013-02-13</td>\n      <td>14.30</td>\n      <td>14.94</td>\n      <td>14.25</td>\n      <td>14.66</td>\n      <td>10259500</td>\n      <td>AAL</td>\n    </tr>\n    <tr>\n      <th>4</th>\n      <td>2013-02-14</td>\n      <td>14.94</td>\n      <td>14.96</td>\n      <td>13.16</td>\n      <td>13.99</td>\n      <td>31879900</td>\n      <td>AAL</td>\n    </tr>\n  </tbody>\n</table>\n</div>"
     },
     "metadata": {},
     "execution_count": 2
    }
   ],
   "source": [
    "stock_data_file = 'data/all_stocks_5yr.csv'\n",
    "stocks_df = pd.read_csv(stock_data_file, parse_dates=['date'])\n",
    "stocks_df.head()"
   ]
  },
  {
   "cell_type": "code",
   "execution_count": 3,
   "metadata": {},
   "outputs": [
    {
     "output_type": "execute_result",
     "data": {
      "text/plain": "        date   open   high    low  close    volume Name  day  day_of_month\n0 2013-02-08  15.07  15.12  14.63  14.75   8407500  AAL    4             8\n1 2013-02-11  14.89  15.01  14.26  14.46   8882000  AAL    0            11\n2 2013-02-12  14.45  14.51  14.10  14.27   8126000  AAL    1            12\n3 2013-02-13  14.30  14.94  14.25  14.66  10259500  AAL    2            13\n4 2013-02-14  14.94  14.96  13.16  13.99  31879900  AAL    3            14",
      "text/html": "<div>\n<style scoped>\n    .dataframe tbody tr th:only-of-type {\n        vertical-align: middle;\n    }\n\n    .dataframe tbody tr th {\n        vertical-align: top;\n    }\n\n    .dataframe thead th {\n        text-align: right;\n    }\n</style>\n<table border=\"1\" class=\"dataframe\">\n  <thead>\n    <tr style=\"text-align: right;\">\n      <th></th>\n      <th>date</th>\n      <th>open</th>\n      <th>high</th>\n      <th>low</th>\n      <th>close</th>\n      <th>volume</th>\n      <th>Name</th>\n      <th>day</th>\n      <th>day_of_month</th>\n    </tr>\n  </thead>\n  <tbody>\n    <tr>\n      <th>0</th>\n      <td>2013-02-08</td>\n      <td>15.07</td>\n      <td>15.12</td>\n      <td>14.63</td>\n      <td>14.75</td>\n      <td>8407500</td>\n      <td>AAL</td>\n      <td>4</td>\n      <td>8</td>\n    </tr>\n    <tr>\n      <th>1</th>\n      <td>2013-02-11</td>\n      <td>14.89</td>\n      <td>15.01</td>\n      <td>14.26</td>\n      <td>14.46</td>\n      <td>8882000</td>\n      <td>AAL</td>\n      <td>0</td>\n      <td>11</td>\n    </tr>\n    <tr>\n      <th>2</th>\n      <td>2013-02-12</td>\n      <td>14.45</td>\n      <td>14.51</td>\n      <td>14.10</td>\n      <td>14.27</td>\n      <td>8126000</td>\n      <td>AAL</td>\n      <td>1</td>\n      <td>12</td>\n    </tr>\n    <tr>\n      <th>3</th>\n      <td>2013-02-13</td>\n      <td>14.30</td>\n      <td>14.94</td>\n      <td>14.25</td>\n      <td>14.66</td>\n      <td>10259500</td>\n      <td>AAL</td>\n      <td>2</td>\n      <td>13</td>\n    </tr>\n    <tr>\n      <th>4</th>\n      <td>2013-02-14</td>\n      <td>14.94</td>\n      <td>14.96</td>\n      <td>13.16</td>\n      <td>13.99</td>\n      <td>31879900</td>\n      <td>AAL</td>\n      <td>3</td>\n      <td>14</td>\n    </tr>\n  </tbody>\n</table>\n</div>"
     },
     "metadata": {},
     "execution_count": 3
    }
   ],
   "source": [
    "stocks_df['day'] = stocks_df['date'].dt.weekday\n",
    "stocks_df['day_of_month'] = stocks_df['date'].dt.day\n",
    "stocks_df.head()"
   ]
  },
  {
   "cell_type": "code",
   "execution_count": 4,
   "metadata": {},
   "outputs": [],
   "source": [
    "stock_symbols = list(set(stocks_df['Name']))\n",
    "\n",
    "dow_30_list = ['NKE', 'AXP', 'BA', 'C', 'CAT', 'DD', 'DIS', 'GE', 'CSCO', 'HD', 'CVX', 'V', 'IBM',\n",
    "'INTC', 'JNJ', 'JPM', 'KO', 'MCD', 'MMM', 'GS', 'MRK', 'MSFT', 'PFE', 'PG', 'AAPL', 'UTX', 'VZ',\n",
    "'WMT', 'XOM', 'TRV']\n",
    " \n",
    "dow_30_symbols = (list(set(dow_30_list) & set(stock_symbols)))"
   ]
  },
  {
   "cell_type": "code",
   "execution_count": 5,
   "metadata": {},
   "outputs": [],
   "source": [
    "market_data = {}\n",
    "for symbol in dow_30_symbols:\n",
    "    # segregate data for that stock so it doesn't spill into other one\n",
    "    temp_df = stocks_df[stocks_df['Name'] == symbol]\n",
    "    open = temp_df['open']\n",
    "    high = temp_df['high']\n",
    "    low = temp_df['low']\n",
    "    close = temp_df['close']\n",
    "    volume = temp_df['volume']\n",
    "    close_avg_3 =  temp_df['close'].rolling(3).mean()\n",
    "    close_avg_5 =  temp_df['close'].rolling(5).mean()\n",
    "    close_avg_10 =  temp_df['close'].rolling(10).mean()\n",
    "    open_close = temp_df['close'] - temp_df['open']\n",
    "    day_ = temp_df['day']\n",
    "    day_of_month = temp_df['day_of_month']\n",
    "    date = temp_df['date']\n",
    "    # day of month\n",
    "    \n",
    "    market_data[symbol] = [open, high, low, close,\n",
    "                                volume, close_avg_3, close_avg_5, close_avg_10, open_close, day_,\n",
    "                               day_of_month, date]"
   ]
  },
  {
   "cell_type": "code",
   "execution_count": 6,
   "metadata": {},
   "outputs": [
    {
     "output_type": "execute_result",
     "data": {
      "text/plain": "   symbol   open    high    low   close  raw_close    volume  raw_volume  \\\n9    CSCO  20.81  20.930  20.72  20.900     20.900  20483295    20483295   \n10   CSCO  21.00  21.195  20.65  20.660     20.660  37362549    37362549   \n11   CSCO  20.54  20.780  20.50  20.608     20.608  34254647    34254647   \n12   CSCO  20.60  21.020  20.44  20.890     20.890  25189601    25189601   \n13   CSCO  20.89  21.045  20.74  20.855     20.855  30335762    30335762   \n\n    close_avg_3  close_avg_5  close_avg_10  open_close  raw_open_close  day  \\\n9     20.921667      21.0430       21.0745       0.090           0.090    4   \n10    20.773333      20.9770       21.0245      -0.340          -0.340    0   \n11    20.722667      20.8066       20.9583       0.068           0.068    1   \n12    20.719333      20.7636       20.9503       0.290           0.290    2   \n13    20.784333      20.7826       20.9218      -0.035          -0.035    3   \n\n    day_of_month       date  \n9             22 2013-02-22  \n10            25 2013-02-25  \n11            26 2013-02-26  \n12            27 2013-02-27  \n13            28 2013-02-28  ",
      "text/html": "<div>\n<style scoped>\n    .dataframe tbody tr th:only-of-type {\n        vertical-align: middle;\n    }\n\n    .dataframe tbody tr th {\n        vertical-align: top;\n    }\n\n    .dataframe thead th {\n        text-align: right;\n    }\n</style>\n<table border=\"1\" class=\"dataframe\">\n  <thead>\n    <tr style=\"text-align: right;\">\n      <th></th>\n      <th>symbol</th>\n      <th>open</th>\n      <th>high</th>\n      <th>low</th>\n      <th>close</th>\n      <th>raw_close</th>\n      <th>volume</th>\n      <th>raw_volume</th>\n      <th>close_avg_3</th>\n      <th>close_avg_5</th>\n      <th>close_avg_10</th>\n      <th>open_close</th>\n      <th>raw_open_close</th>\n      <th>day</th>\n      <th>day_of_month</th>\n      <th>date</th>\n    </tr>\n  </thead>\n  <tbody>\n    <tr>\n      <th>9</th>\n      <td>CSCO</td>\n      <td>20.81</td>\n      <td>20.930</td>\n      <td>20.72</td>\n      <td>20.900</td>\n      <td>20.900</td>\n      <td>20483295</td>\n      <td>20483295</td>\n      <td>20.921667</td>\n      <td>21.0430</td>\n      <td>21.0745</td>\n      <td>0.090</td>\n      <td>0.090</td>\n      <td>4</td>\n      <td>22</td>\n      <td>2013-02-22</td>\n    </tr>\n    <tr>\n      <th>10</th>\n      <td>CSCO</td>\n      <td>21.00</td>\n      <td>21.195</td>\n      <td>20.65</td>\n      <td>20.660</td>\n      <td>20.660</td>\n      <td>37362549</td>\n      <td>37362549</td>\n      <td>20.773333</td>\n      <td>20.9770</td>\n      <td>21.0245</td>\n      <td>-0.340</td>\n      <td>-0.340</td>\n      <td>0</td>\n      <td>25</td>\n      <td>2013-02-25</td>\n    </tr>\n    <tr>\n      <th>11</th>\n      <td>CSCO</td>\n      <td>20.54</td>\n      <td>20.780</td>\n      <td>20.50</td>\n      <td>20.608</td>\n      <td>20.608</td>\n      <td>34254647</td>\n      <td>34254647</td>\n      <td>20.722667</td>\n      <td>20.8066</td>\n      <td>20.9583</td>\n      <td>0.068</td>\n      <td>0.068</td>\n      <td>1</td>\n      <td>26</td>\n      <td>2013-02-26</td>\n    </tr>\n    <tr>\n      <th>12</th>\n      <td>CSCO</td>\n      <td>20.60</td>\n      <td>21.020</td>\n      <td>20.44</td>\n      <td>20.890</td>\n      <td>20.890</td>\n      <td>25189601</td>\n      <td>25189601</td>\n      <td>20.719333</td>\n      <td>20.7636</td>\n      <td>20.9503</td>\n      <td>0.290</td>\n      <td>0.290</td>\n      <td>2</td>\n      <td>27</td>\n      <td>2013-02-27</td>\n    </tr>\n    <tr>\n      <th>13</th>\n      <td>CSCO</td>\n      <td>20.89</td>\n      <td>21.045</td>\n      <td>20.74</td>\n      <td>20.855</td>\n      <td>20.855</td>\n      <td>30335762</td>\n      <td>30335762</td>\n      <td>20.784333</td>\n      <td>20.7826</td>\n      <td>20.9218</td>\n      <td>-0.035</td>\n      <td>-0.035</td>\n      <td>3</td>\n      <td>28</td>\n      <td>2013-02-28</td>\n    </tr>\n  </tbody>\n</table>\n</div>"
     },
     "metadata": {},
     "execution_count": 6
    }
   ],
   "source": [
    "# rebuild data frame\n",
    "fin_open = []\n",
    "fin_high = []\n",
    "fin_low = []\n",
    "fin_close = []\n",
    "fin_volume = []\n",
    "fin_close_avg_3 = []\n",
    "fin_close_avg_5 = []\n",
    "fin_close_avg_10 = []\n",
    "fin_open_close = []\n",
    "\n",
    "fin_day_ = []\n",
    "fin_day_of_month = []\n",
    "fin_date = []\n",
    "fin_symbol = []\n",
    "\n",
    "fin_high_high_diff3 = []\n",
    "fin_low_low_diff3 = []\n",
    "fin_open_open_diff3 = []\n",
    "fin_close_close_diff3 = []\n",
    "fin_volume_volume_diff3 = []\n",
    "\n",
    "\n",
    "for key, value in market_data.items():\n",
    "    fin_open.extend(list(value[0]))\n",
    "    fin_high.extend(list(value[1]))\n",
    "    fin_low.extend(list(value[2]))\n",
    "    fin_close.extend(list(value[3]))\n",
    "    fin_volume.extend(list(value[4]))\n",
    "    fin_close_avg_3.extend(list(value[5]))\n",
    "    fin_close_avg_5.extend(list(value[6]))\n",
    "    fin_close_avg_10.extend(list(value[7]))\n",
    "    fin_open_close.extend(list(value[8]))\n",
    "    fin_day_.extend(list(value[9]))\n",
    "    fin_day_of_month.extend(list(value[10]))\n",
    "    fin_date.extend(list(value[11]))\n",
    "    fin_symbol.extend([key] * len(value[11]))\n",
    "\n",
    "# build final data frame for CVAE\n",
    "norm_stocks_df = pd.DataFrame({'symbol':fin_symbol, \n",
    "                            'open':fin_open,\n",
    "                            'high':fin_high,\n",
    "                            'low':fin_low,\n",
    "                            'close':fin_close,\n",
    "                            'raw_close':fin_close,\n",
    "                            'volume':fin_volume,\n",
    "                            'raw_volume':fin_volume,\n",
    "                            'close_avg_3':fin_close_avg_3,\n",
    "                            'close_avg_5':fin_close_avg_5,\n",
    "                            'close_avg_10':fin_close_avg_10,\n",
    "                            'open_close':fin_open_close,\n",
    "                            'raw_open_close':fin_open_close,\n",
    "                            'day':fin_day_,\n",
    "                            'day_of_month':fin_day_of_month,\n",
    "                            'date':fin_date})\n",
    "\n",
    "# remove any rows with NaN or inf columns\n",
    "norm_stocks_df = norm_stocks_df.replace([np.inf, -np.inf], np.nan)\n",
    "norm_stocks_df = norm_stocks_df.dropna(how='any')\n",
    "\n",
    "norm_stocks_df.head(5)"
   ]
  },
  {
   "cell_type": "code",
   "execution_count": null,
   "metadata": {},
   "outputs": [],
   "source": []
  }
 ],
 "metadata": {
  "kernelspec": {
   "name": "python_defaultSpec_1596907697911",
   "display_name": "Python 3.7.7 64-bit ('anon-fin': conda)"
  }
 },
 "nbformat": 4,
 "nbformat_minor": 2
}